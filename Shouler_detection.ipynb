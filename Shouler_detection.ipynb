{
 "cells": [
  {
   "cell_type": "markdown",
   "metadata": {},
   "source": [
    "# 0. Install and Import Dependencies"
   ]
  },
  {
   "cell_type": "code",
   "execution_count": 16,
   "metadata": {},
   "outputs": [],
   "source": [
    "import cv2\n",
    "import mediapipe as mp\n",
    "import numpy as np\n",
    "import math\n",
    "mp_drawing = mp.solutions.drawing_utils\n",
    "mp_pose = mp.solutions.pose"
   ]
  },
  {
   "cell_type": "markdown",
   "metadata": {},
   "source": [
    "# 2. Determining Joints"
   ]
  },
  {
   "cell_type": "markdown",
   "metadata": {},
   "source": [
    "<img src=\"https://i.imgur.com/3j8BPdc.png\" style=\"height:300px\" >"
   ]
  },
  {
   "cell_type": "markdown",
   "metadata": {},
   "source": [
    "# 3. Calculate Angles"
   ]
  },
  {
   "cell_type": "code",
   "execution_count": 36,
   "metadata": {},
   "outputs": [],
   "source": [
    "def calculate_angle(a,b,c):\n",
    "    a = np.array(a) # First\n",
    "    b = np.array(b) # Mid\n",
    "    c = np.array(c) # End\n",
    "    \n",
    "    radians = np.arctan2(c[1]-b[1], c[0]-b[0]) - np.arctan2(a[1]-b[1], a[0]-b[0])\n",
    "    angle = np.abs(radians*180.0/np.pi)\n",
    "    \n",
    "    if angle >180.0:\n",
    "        angle = 360-angle\n",
    "        \n",
    "    return int(angle) "
   ]
  },
  {
   "cell_type": "markdown",
   "metadata": {},
   "source": [
    "#### finding the distance "
   ]
  },
  {
   "cell_type": "code",
   "execution_count": 30,
   "metadata": {},
   "outputs": [],
   "source": [
    "def distance(x1,y1,x2,y2):\n",
    "    x1 = np.array(x1)\n",
    "    y1 = np.array(y1)\n",
    "    x2 = np.array(x2)\n",
    "    y2 = np.array(y2)\n",
    "    distance = math.sqrt((x2-x1)**2 + (y2-y1)**2 )\n",
    "    return int(distance)\n"
   ]
  },
  {
   "cell_type": "markdown",
   "metadata": {},
   "source": [
    "#### finding the mid-points"
   ]
  },
  {
   "cell_type": "code",
   "execution_count": 19,
   "metadata": {},
   "outputs": [],
   "source": [
    "def mid_points_x(x1,x2):\n",
    "    x1 = np.array(x1)\n",
    "    x2 = np.array(x2)\n",
    "    mid_x = (x1 + x2) / 2\n",
    "\n",
    "    return mid_x\n"
   ]
  },
  {
   "cell_type": "code",
   "execution_count": 20,
   "metadata": {},
   "outputs": [],
   "source": [
    "def mid_points_y(y1,y2):\n",
    "    x1 = np.array(y1)\n",
    "    x2 = np.array(y2)\n",
    "    mid_y = (y1 + y2) / 2\n",
    "\n",
    "    return mid_y"
   ]
  },
  {
   "cell_type": "markdown",
   "metadata": {},
   "source": [
    "#### Check Horizontal line or not\n"
   ]
  },
  {
   "cell_type": "code",
   "execution_count": 21,
   "metadata": {},
   "outputs": [],
   "source": [
    "def find_angles(x1, y1, x2, y2):\n",
    "    dx = x2 - x1\n",
    "    dy = y2 - y1\n",
    "    angle_with_x_axis = math.degrees(math.atan2(dy, dx))\n",
    "    angle_with_y_axis = 90 - angle_with_x_axis\n",
    "    return angle_with_x_axis, angle_with_y_axis"
   ]
  },
  {
   "cell_type": "markdown",
   "metadata": {},
   "source": [
    "#### Finding the Slope "
   ]
  },
  {
   "cell_type": "code",
   "execution_count": 22,
   "metadata": {},
   "outputs": [],
   "source": [
    "def slope(x1,x2,y1,y2):\n",
    "    \n",
    "    dx = x2 - x1\n",
    "    dy = y2 - y1\n",
    "\n",
    "    slope = dy/dx # slope =  diff in y-axis / diff in x-axis\n",
    "    slope_angle_x = math.degrees(math.atan(slope))\n",
    "    slope_angle_y = 90 - slope_angle_x\n",
    "\n",
    "    return slope_angle_x,slope_angle_y "
   ]
  },
  {
   "cell_type": "code",
   "execution_count": 23,
   "metadata": {},
   "outputs": [],
   "source": [
    "def relative(landmark, shape):\n",
    "    \n",
    "    x = int(landmark.x * shape[1])\n",
    "    y = int(landmark.y * shape[0])\n",
    "\n",
    "    return (x,y)"
   ]
  },
  {
   "cell_type": "code",
   "execution_count": 24,
   "metadata": {},
   "outputs": [],
   "source": [
    "def set_point_at_angle(origin, angle_degrees, distance):\n",
    "    # Convert the angle from degrees to radians\n",
    "    angle_radians = math.radians(angle_degrees)\n",
    "    \n",
    "    # Calculate the X and Y coordinates of the point\n",
    "    x = origin[0] + distance * math.cos(angle_radians)\n",
    "    y = origin[1] + distance * math.sin(angle_radians)\n",
    "\n",
    "    return (int(x), int(y))"
   ]
  },
  {
   "cell_type": "markdown",
   "metadata": {},
   "source": [
    "# 4. Shoulder Side Detections"
   ]
  },
  {
   "cell_type": "code",
   "execution_count": 43,
   "metadata": {},
   "outputs": [],
   "source": [
    "cap = cv2.VideoCapture(0)\n",
    "stage = None\n",
    "deflection = None\n",
    "\n",
    "## Setup mediapipe instance\n",
    "with mp_pose.Pose(min_detection_confidence=0.5, min_tracking_confidence=0.5) as pose:\n",
    "    while cap.isOpened():\n",
    "        ret, frame = cap.read()\n",
    "        # Recolor image to RGB\n",
    "        image = cv2.cvtColor(frame, cv2.COLOR_BGR2RGB)\n",
    "        image = cv2.flip(image,1)\n",
    "        image.flags.writeable = False\n",
    "\n",
    "        # Make detection\n",
    "        results = pose.process(image)\n",
    "    \n",
    "        # Recolor back to BGR\n",
    "        image.flags.writeable = True\n",
    "        image = cv2.cvtColor(image, cv2.COLOR_RGB2BGR)\n",
    "\n",
    "        #image = cv2.flip(image,1)\n",
    "        shape =  image.shape\n",
    "        # Extract landmarks\n",
    "        try:\n",
    "            landmarks = results.pose_landmarks.landmark\n",
    "\n",
    "            #Extracting body parts Coordinates\n",
    "\n",
    "            # Elbow\n",
    "            left_elbow = [landmarks[mp_pose.PoseLandmark.LEFT_ELBOW.value].x,landmarks[mp_pose.PoseLandmark.LEFT_ELBOW.value].y]\n",
    "            right_elbow = [landmarks[mp_pose.PoseLandmark.RIGHT_ELBOW.value].x,landmarks[mp_pose.PoseLandmark.RIGHT_ELBOW.value].y]\n",
    "            \n",
    "            # Shoulder\n",
    "            left_shoulder = [landmarks[mp_pose.PoseLandmark.LEFT_SHOULDER.value].x,landmarks[mp_pose.PoseLandmark.LEFT_SHOULDER.value].y]\n",
    "            right_shoulder = [landmarks[mp_pose.PoseLandmark.RIGHT_SHOULDER.value].x,landmarks[mp_pose.PoseLandmark.RIGHT_SHOULDER.value].y]\n",
    "\n",
    "          #  print(\"shoulder keypoints --->\",left_shoulder,right_shoulder)\n",
    "            # Hip\n",
    "            right_hip = [landmarks[mp_pose.PoseLandmark.RIGHT_HIP.value].x,landmarks[mp_pose.PoseLandmark.RIGHT_HIP.value].y] \n",
    "            left_hip = [landmarks[mp_pose.PoseLandmark.LEFT_HIP.value].x,landmarks[mp_pose.PoseLandmark.LEFT_HIP.value].y]\n",
    "           # print(\"hip keypoints --->\",left_hip,right_hip)\n",
    "            # Separate x,y Coordinates\n",
    "\n",
    "            #left_shoulder\n",
    "            left_shoulder_x, left_shoulder_y = relative(landmarks[mp_pose.PoseLandmark.LEFT_SHOULDER.value],shape)\n",
    "           # print(\"Relative shoulder left ---->\",left_shoulder_x,left_shoulder_y)\n",
    "            #left_hip\n",
    "            left_hip_x,left_hip_y = relative(landmarks[mp_pose.PoseLandmark.LEFT_HIP.value],shape)\n",
    "          # print(\"Relative Hip Left--->\",left_hip_x,left_hip_y)\n",
    "            \n",
    "            #Right_shoulder\n",
    "            right_shoulder_x,right_shoulder_y = relative(landmarks[mp_pose.PoseLandmark.RIGHT_SHOULDER.value],shape)\n",
    "           # print(\"Relative shoulder right ---->\",right_shoulder_x,right_shoulder_y)\n",
    "            #Right_hip\n",
    "            right_hip_x,right_hip_y = relative(landmarks[mp_pose.PoseLandmark.RIGHT_HIP.value],shape)\n",
    "           # print(\"realtive hip right\",right_hip_x,right_hip_y)\n",
    "\n",
    "            # ============= Coordiantes end  =======================================================\n",
    "            # Distance\n",
    "\n",
    "            left_side = distance(left_hip_x,left_hip_y,left_shoulder_x,left_shoulder_y)\n",
    "            #print(\"left side\",left_side)\n",
    "            right_side = distance(right_hip_x,right_hip_y,right_shoulder_x,right_shoulder_y)\n",
    "            #print(\"right side\",right_side)\n",
    "\n",
    "            # Mid Points \n",
    "            mid_points_shoulder = [mid_points_x(left_shoulder_x,right_shoulder_x),mid_points_y(left_shoulder_y,right_shoulder_y)]\n",
    "            #   print(\"mid point shoulder\",mid_points_shoulder)\n",
    "            mid_point_hip = [mid_points_x(left_hip_x,right_hip_x),mid_points_y(left_hip_y,right_hip_y)]\n",
    "\n",
    "            # ============= calculate Distance =====================================================\n",
    "\n",
    "            dis_mid_rshoulder = distance(mid_points_shoulder[0],right_shoulder_x,mid_points_shoulder[1],right_shoulder_y)\n",
    "           # print(\"Distance of mid to right\",dis_mid_rshoulder) \n",
    "            dis_mid_lshoulder = distance(mid_points_shoulder[0],left_shoulder_x,mid_points_shoulder[1],left_shoulder_y) \n",
    "           # print(\"Distance of mid to left\",dis_mid_lshoulder) \n",
    "\n",
    "            # ============ Calcualte Angles ========================================================\n",
    "\n",
    "            # Calculate angle\n",
    "            left_angle = calculate_angle(left_hip,left_shoulder,right_shoulder)\n",
    "            #print(\"left angle\", left_angle)\n",
    "            right_angle = calculate_angle(right_hip,right_shoulder,left_shoulder)\n",
    "           # print(\"right angle\",right_angle)\n",
    "            \n",
    "            # =========== Visualization==============================================================   \n",
    "            # Mid Point circle\n",
    "            img_h,img_w,img_c = image.shape\n",
    "            \n",
    "            mid_x = int(mid_points_shoulder[0])\n",
    "            mid_y = int(mid_points_shoulder[1])\n",
    "            mid_c = (mid_x , mid_y) # center keypoints\n",
    "            \n",
    "            # plot mid-points\n",
    "            cv2.circle(image,mid_c,5,(0,255,0),4) #plot mid point in circle\n",
    "\n",
    "            # ================ To Add ref-line calculate other keypoints ============================\n",
    "            \n",
    "            a = int(dis_mid_lshoulder) # ref var a\n",
    "            b = int(dis_mid_rshoulder) # ref var b\n",
    "            \n",
    "            mid_left_line_end = (mid_x + a , mid_y)\n",
    "            mid_right_line_end = (mid_x - b, mid_y)\n",
    "            \n",
    "            # Visualize ref - line ===================================================================\n",
    "            cv2.line(image,mid_c,mid_left_line_end,(0,255,0),2) # from center to left\n",
    "            cv2.line(image,mid_c,mid_right_line_end,(0,255,0),2) # from centerr to right\n",
    "\n",
    "            #mid_right_angle  = calculate_angle(mid_points_shoulder,right_shoulder,right_hip)\n",
    "           # mid_left_angle  = calculate_angle(mid_points_shoulder,left_shoulder,left_hip)\n",
    "\n",
    "            # ================= MAIN LOGIC =============================================================\n",
    "            \n",
    "            # Posture Detections\n",
    "            right_stage = (int(right_side) > int(left_side)) and (int(left_angle) > 87)\n",
    "            left_stage = (int(left_side)  > int(right_side)) and (int(right_angle) > 88)\n",
    "\n",
    "            if right_stage == True:\n",
    "                stage = \"Left Shoulder Up \"\n",
    "                ri_an =  find_angles(mid_points_shoulder[0],mid_points_shoulder[1],right_shoulder_x,right_shoulder_y)\n",
    "                defl = 180  + int(ri_an[0])\n",
    "                new = defl \n",
    "                deflection=str(new)\n",
    "            elif left_stage == True:\n",
    "                stage = \"Right Shoulder Up \"\n",
    "                le_an = find_angles(mid_points_shoulder[0],mid_points_shoulder[1],left_shoulder_x,left_shoulder_y)\n",
    "                defl = int(abs(le_an[0]))\n",
    "                new = defl \n",
    "                deflection=str(new)\n",
    "            elif right_stage == False and left_stage == False:\n",
    "                stage = \"Normal\"\n",
    "                le_an = find_angles(mid_points_shoulder[0],mid_points_shoulder[1],left_shoulder_x,left_shoulder_y)\n",
    "                ri_an = find_angles(mid_points_shoulder[0],mid_points_shoulder[1],right_shoulder_x,right_shoulder_y)\n",
    "                if ri_an[0] >= 0:\n",
    "                    defl = int(abs(180 - ri_an[0])) - int(abs(le_an[0]))\n",
    "                    new = defl \n",
    "                    deflection=str(new)\n",
    "                else:\n",
    "                    defl = int(abs(180 + ri_an[0])) - int(abs(le_an[0]))\n",
    "                    new = defl \n",
    "                    deflection=str(new) \n",
    "        except:\n",
    "            pass\n",
    "        \n",
    "        #Stage\n",
    "        cv2.putText(image,'POSTURE', (15,20),\n",
    "                    cv2.FONT_HERSHEY_PLAIN, 1.5, (0,0,0), 2, cv2.LINE_AA)\n",
    "        cv2.putText(image, stage, \n",
    "                    (15,40), \n",
    "                    cv2.FONT_HERSHEY_DUPLEX, 0.7, (128,0,128), 2, cv2.LINE_AA)\n",
    "        \n",
    "        #Deflection\n",
    "        cv2.putText(image,'Deviation Angle' , (15,80), \n",
    "                    cv2.FONT_HERSHEY_PLAIN, 1.5, (0,0,0), 2, cv2.LINE_AA)\n",
    "        cv2.putText(image, deflection , \n",
    "                    (15,100), \n",
    "                    cv2.FONT_HERSHEY_DUPLEX, 0.7, (128,0,128), 2, cv2.LINE_AA)\n",
    "        cv2.circle(image,(45,87),3,(128,0,128),2)\n",
    "        \n",
    "        mp_drawing.draw_landmarks(image, results.pose_landmarks, mp_pose.POSE_CONNECTIONS,\n",
    "                                mp_drawing.DrawingSpec(color=(245,117,66), thickness=2, circle_radius=2), \n",
    "                                mp_drawing.DrawingSpec(color=(245,66,230), thickness=2, circle_radius=2) \n",
    "                                 ) \n",
    "        image = cv2.resize(image,(1280,720))\n",
    "        cv2.imshow('Mediapipe Feed', image)\n",
    "        if cv2.waitKey(10) & 0xFF == ord('q'):\n",
    "            break\n",
    "\n",
    "    cap.release()\n",
    "    cv2.destroyAllWindows()"
   ]
  },
  {
   "cell_type": "markdown",
   "metadata": {},
   "source": [
    "# if Code Show error and cam is open in backgroud to close cam run below cmd"
   ]
  },
  {
   "cell_type": "code",
   "execution_count": 42,
   "metadata": {},
   "outputs": [],
   "source": [
    "cap.release()\n",
    "cv2.destroyAllWindows()"
   ]
  }
 ],
 "metadata": {
  "kernelspec": {
   "display_name": "yolov5",
   "language": "python",
   "name": "python3"
  },
  "language_info": {
   "codemirror_mode": {
    "name": "ipython",
    "version": 3
   },
   "file_extension": ".py",
   "mimetype": "text/x-python",
   "name": "python",
   "nbconvert_exporter": "python",
   "pygments_lexer": "ipython3",
   "version": "3.11.4"
  }
 },
 "nbformat": 4,
 "nbformat_minor": 2
}
